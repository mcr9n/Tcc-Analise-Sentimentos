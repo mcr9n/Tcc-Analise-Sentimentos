{
  "nbformat": 4,
  "nbformat_minor": 0,
  "metadata": {
    "colab": {
      "provenance": []
    },
    "kernelspec": {
      "name": "python3",
      "display_name": "Python 3"
    },
    "language_info": {
      "name": "python"
    }
  },
  "cells": [
    {
      "cell_type": "markdown",
      "source": [
        "\n",
        "\n",
        "```\n",
        "# O objetivo é montar um arquivo .csv para análise de dados, o arquivo deve conter:\n",
        "- Curso do estudante\n",
        "- Estudante achou a disciplina útil?\n",
        "- Semestre em que o feedback foi coletado\n",
        "- Texto do feedback\n",
        "- Sentimento do feedback quando existir\n",
        "```\n",
        "\n"
      ],
      "metadata": {
        "id": "eEkqWceynsTm"
      }
    },
    {
      "cell_type": "code",
      "execution_count": 21,
      "metadata": {
        "id": "-C8KW1_NniYM"
      },
      "outputs": [],
      "source": [
        "# Imports\n",
        "\n",
        "import pandas as pd\n",
        "import numpy as np\n",
        "\n",
        "# Drive\n",
        "from google.colab import drive"
      ]
    },
    {
      "cell_type": "code",
      "source": [
        "# Conectando ao google drive\n",
        "drive.mount('/content/drive')\n",
        "!ls /content/drive/MyDrive"
      ],
      "metadata": {
        "colab": {
          "base_uri": "https://localhost:8080/"
        },
        "collapsed": true,
        "id": "MShy2wiFr97C",
        "outputId": "61e0b57e-b3bd-4099-b959-1498ac0b7693"
      },
      "execution_count": 112,
      "outputs": [
        {
          "output_type": "stream",
          "name": "stdout",
          "text": [
            "Drive already mounted at /content/drive; to attempt to forcibly remount, call drive.mount(\"/content/drive\", force_remount=True).\n",
            " avaliacao_da_disciplina_2022_1.xlsx   RePro.csv\n",
            " bitcoin_wallet_keywords.png\t       repro-main.zip\n",
            "'Colab Notebooks'\t\t       review_repro_preprocessado.csv\n",
            " dataset_professora.csv\t\t       reviews_ptbr.csv\n",
            " dataset_professora.gsheet\t       tcc_analise_sentimento1.xlsx\n",
            " monero_wallet_keywords.png\t       tw_pt.csv\n",
            " olist_preprocessado.csv\n"
          ]
        }
      ]
    },
    {
      "cell_type": "code",
      "source": [
        "# Lendo a primeira planilha em um dataframe\n",
        "tcc_analise_sentimento1 = pd.read_excel(\"/content/drive/MyDrive/tcc_analise_sentimento1.xlsx\", engine=\"openpyxl\", sheet_name=None)\n",
        "# Apresentando abas carregadas\n",
        "print(\"Abas carregadas:\", tcc_analise_sentimento1.keys())"
      ],
      "metadata": {
        "colab": {
          "base_uri": "https://localhost:8080/"
        },
        "id": "CFB6vy0Krgu3",
        "outputId": "7f996dec-64ec-4c3f-e9ee-be82f47f3482"
      },
      "execution_count": 113,
      "outputs": [
        {
          "output_type": "stream",
          "name": "stdout",
          "text": [
            "Abas carregadas: dict_keys(['analise_ensino_remoto', 'analise_primeiro_semestre', 'avaliacao_da_disciplina', 'licenciatura'])\n"
          ]
        }
      ]
    },
    {
      "cell_type": "code",
      "source": [
        "# Lendo a segunda planilha em um dataframe\n",
        "avaliacao_disciplina_2022_1 = pd.read_excel(\"/content/drive/MyDrive/avaliacao_da_disciplina_2022_1.xlsx\", engine=\"openpyxl\", sheet_name=None)\n",
        "# Apresentando abas carregadas\n",
        "print(\"Abas carregadas:\", avaliacao_disciplina_2022_1.keys())"
      ],
      "metadata": {
        "colab": {
          "base_uri": "https://localhost:8080/"
        },
        "id": "hVZL6tbQsGe6",
        "outputId": "44ce9b8e-21ee-479e-c922-518daf7c797c"
      },
      "execution_count": 114,
      "outputs": [
        {
          "output_type": "stream",
          "name": "stdout",
          "text": [
            "Abas carregadas: dict_keys(['avaliacao_disciplina'])\n"
          ]
        }
      ]
    },
    {
      "cell_type": "markdown",
      "source": [
        "\n",
        "\n",
        "```\n",
        "# Criando dataframes para cada tab da planilha\n",
        "```\n",
        "\n"
      ],
      "metadata": {
        "id": "jSfVsXWP9dq_"
      }
    },
    {
      "cell_type": "code",
      "source": [
        "# Criando dataframes para cada tab da planilha tcc_analise_sentimento1\n",
        "analise_ensino_remoto = tcc_analise_sentimento1['analise_ensino_remoto']\n",
        "analise_primeiro_semestre = tcc_analise_sentimento1['analise_primeiro_semestre']\n",
        "avaliacao_da_disciplina = tcc_analise_sentimento1['avaliacao_da_disciplina']\n",
        "licenciatura = tcc_analise_sentimento1['licenciatura']\n",
        "\n",
        "# Criando dataframes para cada tab da planilha avaliacao_da_disciplina_2022_1\n",
        "avaliacao_disciplina = avaliacao_disciplina_2022_1['avaliacao_disciplina']"
      ],
      "metadata": {
        "id": "i3aK-1STsYGa"
      },
      "execution_count": 115,
      "outputs": []
    },
    {
      "cell_type": "markdown",
      "source": [
        "\n",
        "\n",
        "```\n",
        "# Agora que o novo dataframe está criado vamos preencher com os dados\n",
        "fornecidos pela professora\n",
        "```\n",
        "\n"
      ],
      "metadata": {
        "id": "WJC1cSUVwsmq"
      }
    },
    {
      "cell_type": "code",
      "source": [
        "# Criando um DataFrame vazio para armazenar os feedbacks organizados\n",
        "df_coleta_insight = pd.DataFrame(columns=['semestre', 'curso', 'achou_util', 'feedback', 'sentimento'])\n",
        "\n",
        "# Função para limpar colunas desnecessárias\n",
        "def concat_coluna(coluna_feedback):\n",
        "    global df_coleta_insight\n",
        "    global tcc_analise_sentimento1\n",
        "    global avaliacao_disciplina_2022_1\n",
        "    avaliacao_da_disciplina = tcc_analise_sentimento1['avaliacao_da_disciplina'].copy()\n",
        "    licenciatura = tcc_analise_sentimento1['licenciatura'].copy()\n",
        "    avaliacao_disciplina = avaliacao_disciplina_2022_1['avaliacao_disciplina'].copy()\n",
        "\n",
        "    colunas_descartar = [\n",
        "        'Descreva como foi esse primeiro semestre na Universidade de Brasilia  (escreva no mínimo 250 caracteres e no máximo 500)',\n",
        "        'Descreva o que você está achando desde modelo de ensino remoto (escreva no mínimo 250 caractérers e no máximo 500)',\n",
        "        'Descreva o que você achou desta disciplina, você acha que devemos oferecer para os calouros no próximo semestre (escreva no mínimo 250 caracteres e no máximo 500)',\n",
        "        'Gostaria de deixar alguma sugestão para o próximo Programa de Acolhiment@ d@s Calour@s no semestre 2021.1? ',\n",
        "        'Gostaria de deixar alguma sugestão para o próximo Programa de Acolhiment@ d@s Calour@s no semestre 2022.2? '\n",
        "    ]\n",
        "\n",
        "\n",
        "    # Definindo os semestres para cada DataFrame\n",
        "    avaliacao_da_disciplina['semestre'] = '2021.1'\n",
        "    licenciatura['semestre'] = '2021.1'\n",
        "    avaliacao_disciplina['semestre'] = '2022.1'\n",
        "\n",
        "    # Renomeando colunas para padronizar os DataFrames\n",
        "    renomeacoes = {\n",
        "        'Qual o seu curso': 'curso',\n",
        "        'TIPO': 'sentimento',\n",
        "        'Você achou útil essa disciplina': 'achou_util',\n",
        "        coluna_feedback: 'feedback'\n",
        "    }\n",
        "\n",
        "    avaliacao_da_disciplina.rename(columns=renomeacoes, inplace=True)\n",
        "    avaliacao_disciplina.rename(columns=renomeacoes, inplace=True)\n",
        "    licenciatura.rename(columns=renomeacoes, inplace=True)\n",
        "\n",
        "    dataframes = [avaliacao_da_disciplina, licenciatura, avaliacao_disciplina]\n",
        "    for df in dataframes:\n",
        "        for coluna in colunas_descartar:\n",
        "            if coluna in df.columns:\n",
        "                df.drop(columns=coluna, inplace=True)\n",
        "        df_coleta_insight = pd.concat([df_coleta_insight, df], ignore_index=True)\n",
        "    # Limpando\n",
        "    limpeza = ['Data', 'alunos']\n",
        "    df_coleta_insight.drop(columns=limpeza, inplace=True)\n",
        "\n",
        "\n"
      ],
      "metadata": {
        "id": "H5JDb-AuVbnr"
      },
      "execution_count": 156,
      "outputs": []
    },
    {
      "cell_type": "code",
      "source": [
        "concat_coluna('Descreva como foi esse primeiro semestre na Universidade de Brasilia  (escreva no mínimo 250 caracteres e no máximo 500)')\n",
        "concat_coluna('Descreva o que você está achando desde modelo de ensino remoto (escreva no mínimo 250 caractérers e no máximo 500)')\n",
        "concat_coluna('Descreva o que você achou desta disciplina, você acha que devemos oferecer para os calouros no próximo semestre (escreva no mínimo 250 caracteres e no máximo 500)')\n",
        "concat_coluna('Gostaria de deixar alguma sugestão para o próximo Programa de Acolhiment@ d@s Calour@s no semestre 2021.1? ')\n",
        "concat_coluna('Gostaria de deixar alguma sugestão para o próximo Programa de Acolhiment@ d@s Calour@s no semestre 2022.2? ')\n",
        "\n",
        "if df_coleta_insight['feedback'].isnull().any():\n",
        "    df_coleta_insight.dropna(subset=['feedback'], inplace=True)\n",
        "\n",
        "df_coleta_insight.reset_index(drop=True, inplace=True)\n",
        "df_coleta_insight.shape"
      ],
      "metadata": {
        "colab": {
          "base_uri": "https://localhost:8080/"
        },
        "id": "CKCIS8FlEFrp",
        "outputId": "137725bc-16a7-473f-d74d-e2ffa6bd1840"
      },
      "execution_count": 157,
      "outputs": [
        {
          "output_type": "execute_result",
          "data": {
            "text/plain": [
              "(368, 5)"
            ]
          },
          "metadata": {},
          "execution_count": 157
        }
      ]
    },
    {
      "cell_type": "code",
      "source": [
        "# Salvando no drive um dataset contendo todos os registros disponibilizados pela professora com os campos abaixo\n",
        "\n",
        "df_coleta_insight.to_csv('dataset_professora.csv', index= False, columns= ['semestre', 'curso', 'achou_util', 'feedback', 'sentimento'])"
      ],
      "metadata": {
        "id": "q4WxmK2wgWWL"
      },
      "execution_count": 158,
      "outputs": []
    }
  ]
}