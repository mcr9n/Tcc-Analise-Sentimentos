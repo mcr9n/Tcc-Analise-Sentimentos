{
  "cells": [
    {
      "cell_type": "markdown",
      "metadata": {
        "id": "9TnJztDZGw-n"
      },
      "source": [
        "`# Treinamento de Rede Neural Recorrente para classificação`\n"
      ]
    },
    {
      "cell_type": "markdown",
      "metadata": {
        "id": "_2VQo4bajwUU"
      },
      "source": [
        "## Setup"
      ]
    },
    {
      "cell_type": "code",
      "execution_count": 92,
      "metadata": {
        "id": "z682XYsrjkY9"
      },
      "outputs": [],
      "source": [
        "# Drive\n",
        "from google.colab import drive\n",
        "\n",
        "import numpy as np\n",
        "import pandas as pd\n",
        "from sklearn.model_selection import train_test_split\n",
        "\n",
        "import tensorflow_datasets as tfds\n",
        "import tensorflow as tf\n",
        "\n",
        "tfds.disable_progress_bar()"
      ]
    },
    {
      "cell_type": "markdown",
      "source": [
        "# Import `matplotlib` and create a helper function to plot graphs:"
      ],
      "metadata": {
        "id": "in2dGlrQaPTH"
      }
    },
    {
      "cell_type": "code",
      "execution_count": 93,
      "metadata": {
        "id": "Mp1Z7P9pYRSK"
      },
      "outputs": [],
      "source": [
        "import matplotlib.pyplot as plt\n",
        "\n",
        "\n",
        "def plot_graphs(history, metric):\n",
        "  plt.plot(history.history[metric])\n",
        "  plt.plot(history.history['val_'+metric], '')\n",
        "  plt.xlabel(\"Epochs\")\n",
        "  plt.ylabel(metric)\n",
        "  plt.legend([metric, 'val_'+metric])"
      ]
    },
    {
      "cell_type": "markdown",
      "source": [
        "# Retrieving the dataset downloaded from the Google Drive repository"
      ],
      "metadata": {
        "id": "KSPH5aEsaVBx"
      }
    },
    {
      "cell_type": "code",
      "source": [
        "# Conectando ao google drive\n",
        "drive.mount('/content/drive')\n",
        "!ls /content/drive/MyDrive"
      ],
      "metadata": {
        "colab": {
          "base_uri": "https://localhost:8080/"
        },
        "id": "TMzY_OeMnpQf",
        "outputId": "72c217d7-f678-4357-a869-2d1cb40a0ed3",
        "collapsed": true
      },
      "execution_count": 94,
      "outputs": [
        {
          "output_type": "stream",
          "name": "stdout",
          "text": [
            "Drive already mounted at /content/drive; to attempt to forcibly remount, call drive.mount(\"/content/drive\", force_remount=True).\n",
            " avaliacao_da_disciplina_2022_1.xlsx\n",
            " bidirectional.png\n",
            " bitcoin_wallet_keywords.png\n",
            "'Colab Notebooks'\n",
            " dataset_professora.csv\n",
            " dataset_professora.gsheet\n",
            " dataset_professora_predicoes.csv\n",
            " links_tcc\n",
            "'Machine learning techniques for emotion detection and sentiment analysis  current state  challenges  and future directions.pdf'\n",
            " modelo_rnn_arthur.keras\n",
            " monero_wallet_keywords.png\n",
            " olist_customers_dataset.csv\n",
            " olist_order_reviews_dataset.csv\n",
            " olist_preprocessado.csv\n",
            " PLN\n",
            " RePro.csv\n",
            " repro-main.zip\n",
            " ReProRnn.csv\n",
            " review_repro_preprocessado.csv\n",
            " reviews_ptbr.csv\n",
            " tcc_analise_sentimento1.xlsx\n",
            " tw_pt.csv\n"
          ]
        }
      ]
    },
    {
      "cell_type": "markdown",
      "source": [
        "# Setup input pipeline\n",
        "Brazilian E-Commerce Public Dataset by Olist\n",
        "Welcome! This is a Brazilian ecommerce public dataset of orders made at Olist Store. The dataset has information of 100k orders from 2016 to 2018 made at multiple marketplaces in Brazil. Its features allows viewing an order from multiple dimensions: from order status, price, payment and freight performance to customer location, product attributes and finally reviews written by customers. We also released a geolocation dataset that relates Brazilian zip codes to lat/lng coordinates.\n"
      ],
      "metadata": {
        "id": "FxmOkQV1aZI0"
      }
    },
    {
      "cell_type": "code",
      "source": [
        "df = pd.read_csv(\"/content/drive/MyDrive/olist_preprocessado.csv\")\n",
        "print(len(df))\n",
        "\n",
        "# Vamos fazer um pré-processamento"
      ],
      "metadata": {
        "colab": {
          "base_uri": "https://localhost:8080/"
        },
        "collapsed": true,
        "id": "68dZJWXIn8Ud",
        "outputId": "bea01566-4fca-4cb3-e004-acd50d8ca051"
      },
      "execution_count": 100,
      "outputs": [
        {
          "output_type": "stream",
          "name": "stdout",
          "text": [
            "40950\n"
          ]
        }
      ]
    },
    {
      "cell_type": "code",
      "source": [
        "train_dataset, test_dataset = train_test_split(df, test_size=0.2, random_state=42)\n",
        "type(train_dataset)"
      ],
      "metadata": {
        "colab": {
          "base_uri": "https://localhost:8080/",
          "height": 203
        },
        "id": "5iTc5BjTtOo2",
        "outputId": "31eb86d1-1b70-4996-90fe-9b8d33ba77bc"
      },
      "execution_count": 102,
      "outputs": [
        {
          "output_type": "execute_result",
          "data": {
            "text/plain": [
              "pandas.core.frame.DataFrame"
            ],
            "text/html": [
              "<div style=\"max-width:800px; border: 1px solid var(--colab-border-color);\"><style>\n",
              "      pre.function-repr-contents {\n",
              "        overflow-x: auto;\n",
              "        padding: 8px 12px;\n",
              "        max-height: 500px;\n",
              "      }\n",
              "\n",
              "      pre.function-repr-contents.function-repr-contents-collapsed {\n",
              "        cursor: pointer;\n",
              "        max-height: 100px;\n",
              "      }\n",
              "    </style>\n",
              "    <pre style=\"white-space: initial; background:\n",
              "         var(--colab-secondary-surface-color); padding: 8px 12px;\n",
              "         border-bottom: 1px solid var(--colab-border-color);\"><b>pandas.core.frame.DataFrame</b><br/>def __init__(data=None, index: Axes | None=None, columns: Axes | None=None, dtype: Dtype | None=None, copy: bool | None=None) -&gt; None</pre><pre class=\"function-repr-contents function-repr-contents-collapsed\" style=\"\"><a class=\"filepath\" style=\"display:none\" href=\"#\">/usr/local/lib/python3.11/dist-packages/pandas/core/frame.py</a>Two-dimensional, size-mutable, potentially heterogeneous tabular data.\n",
              "\n",
              "Data structure also contains labeled axes (rows and columns).\n",
              "Arithmetic operations align on both row and column labels. Can be\n",
              "thought of as a dict-like container for Series objects. The primary\n",
              "pandas data structure.\n",
              "\n",
              "Parameters\n",
              "----------\n",
              "data : ndarray (structured or homogeneous), Iterable, dict, or DataFrame\n",
              "    Dict can contain Series, arrays, constants, dataclass or list-like objects. If\n",
              "    data is a dict, column order follows insertion-order. If a dict contains Series\n",
              "    which have an index defined, it is aligned by its index. This alignment also\n",
              "    occurs if data is a Series or a DataFrame itself. Alignment is done on\n",
              "    Series/DataFrame inputs.\n",
              "\n",
              "    If data is a list of dicts, column order follows insertion-order.\n",
              "\n",
              "index : Index or array-like\n",
              "    Index to use for resulting frame. Will default to RangeIndex if\n",
              "    no indexing information part of input data and no index provided.\n",
              "columns : Index or array-like\n",
              "    Column labels to use for resulting frame when data does not have them,\n",
              "    defaulting to RangeIndex(0, 1, 2, ..., n). If data contains column labels,\n",
              "    will perform column selection instead.\n",
              "dtype : dtype, default None\n",
              "    Data type to force. Only a single dtype is allowed. If None, infer.\n",
              "copy : bool or None, default None\n",
              "    Copy data from inputs.\n",
              "    For dict data, the default of None behaves like ``copy=True``.  For DataFrame\n",
              "    or 2d ndarray input, the default of None behaves like ``copy=False``.\n",
              "    If data is a dict containing one or more Series (possibly of different dtypes),\n",
              "    ``copy=False`` will ensure that these inputs are not copied.\n",
              "\n",
              "    .. versionchanged:: 1.3.0\n",
              "\n",
              "See Also\n",
              "--------\n",
              "DataFrame.from_records : Constructor from tuples, also record arrays.\n",
              "DataFrame.from_dict : From dicts of Series, arrays, or dicts.\n",
              "read_csv : Read a comma-separated values (csv) file into DataFrame.\n",
              "read_table : Read general delimited file into DataFrame.\n",
              "read_clipboard : Read text from clipboard into DataFrame.\n",
              "\n",
              "Notes\n",
              "-----\n",
              "Please reference the :ref:`User Guide &lt;basics.dataframe&gt;` for more information.\n",
              "\n",
              "Examples\n",
              "--------\n",
              "Constructing DataFrame from a dictionary.\n",
              "\n",
              "&gt;&gt;&gt; d = {&#x27;col1&#x27;: [1, 2], &#x27;col2&#x27;: [3, 4]}\n",
              "&gt;&gt;&gt; df = pd.DataFrame(data=d)\n",
              "&gt;&gt;&gt; df\n",
              "   col1  col2\n",
              "0     1     3\n",
              "1     2     4\n",
              "\n",
              "Notice that the inferred dtype is int64.\n",
              "\n",
              "&gt;&gt;&gt; df.dtypes\n",
              "col1    int64\n",
              "col2    int64\n",
              "dtype: object\n",
              "\n",
              "To enforce a single dtype:\n",
              "\n",
              "&gt;&gt;&gt; df = pd.DataFrame(data=d, dtype=np.int8)\n",
              "&gt;&gt;&gt; df.dtypes\n",
              "col1    int8\n",
              "col2    int8\n",
              "dtype: object\n",
              "\n",
              "Constructing DataFrame from a dictionary including Series:\n",
              "\n",
              "&gt;&gt;&gt; d = {&#x27;col1&#x27;: [0, 1, 2, 3], &#x27;col2&#x27;: pd.Series([2, 3], index=[2, 3])}\n",
              "&gt;&gt;&gt; pd.DataFrame(data=d, index=[0, 1, 2, 3])\n",
              "   col1  col2\n",
              "0     0   NaN\n",
              "1     1   NaN\n",
              "2     2   2.0\n",
              "3     3   3.0\n",
              "\n",
              "Constructing DataFrame from numpy ndarray:\n",
              "\n",
              "&gt;&gt;&gt; df2 = pd.DataFrame(np.array([[1, 2, 3], [4, 5, 6], [7, 8, 9]]),\n",
              "...                    columns=[&#x27;a&#x27;, &#x27;b&#x27;, &#x27;c&#x27;])\n",
              "&gt;&gt;&gt; df2\n",
              "   a  b  c\n",
              "0  1  2  3\n",
              "1  4  5  6\n",
              "2  7  8  9\n",
              "\n",
              "Constructing DataFrame from a numpy ndarray that has labeled columns:\n",
              "\n",
              "&gt;&gt;&gt; data = np.array([(1, 2, 3), (4, 5, 6), (7, 8, 9)],\n",
              "...                 dtype=[(&quot;a&quot;, &quot;i4&quot;), (&quot;b&quot;, &quot;i4&quot;), (&quot;c&quot;, &quot;i4&quot;)])\n",
              "&gt;&gt;&gt; df3 = pd.DataFrame(data, columns=[&#x27;c&#x27;, &#x27;a&#x27;])\n",
              "...\n",
              "&gt;&gt;&gt; df3\n",
              "   c  a\n",
              "0  3  1\n",
              "1  6  4\n",
              "2  9  7\n",
              "\n",
              "Constructing DataFrame from dataclass:\n",
              "\n",
              "&gt;&gt;&gt; from dataclasses import make_dataclass\n",
              "&gt;&gt;&gt; Point = make_dataclass(&quot;Point&quot;, [(&quot;x&quot;, int), (&quot;y&quot;, int)])\n",
              "&gt;&gt;&gt; pd.DataFrame([Point(0, 0), Point(0, 3), Point(2, 3)])\n",
              "   x  y\n",
              "0  0  0\n",
              "1  0  3\n",
              "2  2  3\n",
              "\n",
              "Constructing DataFrame from Series/DataFrame:\n",
              "\n",
              "&gt;&gt;&gt; ser = pd.Series([1, 2, 3], index=[&quot;a&quot;, &quot;b&quot;, &quot;c&quot;])\n",
              "&gt;&gt;&gt; df = pd.DataFrame(data=ser, index=[&quot;a&quot;, &quot;c&quot;])\n",
              "&gt;&gt;&gt; df\n",
              "   0\n",
              "a  1\n",
              "c  3\n",
              "\n",
              "&gt;&gt;&gt; df1 = pd.DataFrame([1, 2, 3], index=[&quot;a&quot;, &quot;b&quot;, &quot;c&quot;], columns=[&quot;x&quot;])\n",
              "&gt;&gt;&gt; df2 = pd.DataFrame(data=df1, index=[&quot;a&quot;, &quot;c&quot;])\n",
              "&gt;&gt;&gt; df2\n",
              "   x\n",
              "a  1\n",
              "c  3</pre>\n",
              "      <script>\n",
              "      if (google.colab.kernel.accessAllowed && google.colab.files && google.colab.files.view) {\n",
              "        for (const element of document.querySelectorAll('.filepath')) {\n",
              "          element.style.display = 'block'\n",
              "          element.onclick = (event) => {\n",
              "            event.preventDefault();\n",
              "            event.stopPropagation();\n",
              "            google.colab.files.view(element.textContent, 509);\n",
              "          };\n",
              "        }\n",
              "      }\n",
              "      for (const element of document.querySelectorAll('.function-repr-contents')) {\n",
              "        element.onclick = (event) => {\n",
              "          event.preventDefault();\n",
              "          event.stopPropagation();\n",
              "          element.classList.toggle('function-repr-contents-collapsed');\n",
              "        };\n",
              "      }\n",
              "      </script>\n",
              "      </div>"
            ]
          },
          "metadata": {},
          "execution_count": 102
        }
      ]
    },
    {
      "cell_type": "code",
      "source": [
        "def dataframe_to_dataset(df):\n",
        "    # Separa colunas\n",
        "    texts = df[\"Texto\"].values\n",
        "    labels = df[\"Label\"].values\n",
        "\n",
        "    # Converte para tf.data.Dataset\n",
        "    ds = tf.data.Dataset.from_tensor_slices((texts, labels))\n",
        "    return ds"
      ],
      "metadata": {
        "id": "A-KOHPjGBOyc"
      },
      "execution_count": 103,
      "outputs": []
    },
    {
      "cell_type": "code",
      "source": [
        "train_dataset = dataframe_to_dataset(train_dataset)\n",
        "test_dataset = dataframe_to_dataset(test_dataset)\n",
        "\n",
        "train_dataset.element_spec"
      ],
      "metadata": {
        "colab": {
          "base_uri": "https://localhost:8080/"
        },
        "id": "ngD3Epqb_Tw_",
        "outputId": "e141d817-8cfa-41d8-994e-a43cce85ae90"
      },
      "execution_count": 104,
      "outputs": [
        {
          "output_type": "execute_result",
          "data": {
            "text/plain": [
              "(TensorSpec(shape=(), dtype=tf.string, name=None),\n",
              " TensorSpec(shape=(), dtype=tf.int64, name=None))"
            ]
          },
          "metadata": {},
          "execution_count": 104
        }
      ]
    },
    {
      "cell_type": "markdown",
      "source": [
        "\n",
        "\n",
        "```\n",
        "# Initially this returns a dataset of (text, label pairs):\n",
        "```\n",
        "\n"
      ],
      "metadata": {
        "id": "T2FgD8mTSUvi"
      }
    },
    {
      "cell_type": "code",
      "source": [
        "for example, label in train_dataset.take(2):\n",
        "  print('text: ', example.numpy())\n",
        "  print('label: ', label.numpy())"
      ],
      "metadata": {
        "colab": {
          "base_uri": "https://localhost:8080/"
        },
        "id": "A8s5NNQ2VdO5",
        "outputId": "5c537a10-7054-4432-b3a2-681be01c4c05"
      },
      "execution_count": 105,
      "outputs": [
        {
          "output_type": "stream",
          "name": "stdout",
          "text": [
            "text:  b'Boa compra\\r\\nRecebi os produtos no prazo\\r\\n'\n",
            "label:  1\n",
            "text:  b'O produto que recebi \\xc3\\xa9 totalmente diferente a capa do que vende diretamente em um loja de livraria. A capa \\xc3\\xa9 bem fraca. Porem o impresso \\xc3\\xa9 bom. '\n",
            "label:  0\n"
          ]
        }
      ]
    },
    {
      "cell_type": "markdown",
      "source": [
        "# Next shuffle the data for training and create batches of these (text, label) pairs:"
      ],
      "metadata": {
        "id": "acBS08Chadvj"
      }
    },
    {
      "cell_type": "code",
      "execution_count": 106,
      "metadata": {
        "id": "dDsCaZCDYZgm"
      },
      "outputs": [],
      "source": [
        "# Prepara os dados com shuffle e batching (mas sem aplicar o encoder aqui!)\n",
        "BUFFER_SIZE = 10000\n",
        "BATCH_SIZE = 64"
      ]
    },
    {
      "cell_type": "code",
      "execution_count": 107,
      "metadata": {
        "id": "VznrltNOnUc5"
      },
      "outputs": [],
      "source": [
        "train_dataset = train_dataset.shuffle(BUFFER_SIZE).batch(BATCH_SIZE).prefetch(tf.data.AUTOTUNE)\n",
        "test_dataset = test_dataset.batch(BATCH_SIZE).prefetch(tf.data.AUTOTUNE)"
      ]
    },
    {
      "cell_type": "code",
      "source": [
        "for example, label in train_dataset.take(1):\n",
        "    print('texts: ', example.numpy()[:3])\n",
        "    print()\n",
        "    print('labels: ', label.numpy())  # Removido o [:3]"
      ],
      "metadata": {
        "colab": {
          "base_uri": "https://localhost:8080/"
        },
        "id": "Xf4hisiLPch0",
        "outputId": "7bda64d2-0292-4812-b913-6b200e40740f"
      },
      "execution_count": 108,
      "outputs": [
        {
          "output_type": "stream",
          "name": "stdout",
          "text": [
            "texts:  [b'Fiz a comprar e meu produto foi roubado entrei em contato e ningu\\xc3\\xa9m resolveu nada e aguardo uma resposta ate hoje '\n",
            " b'EXTREMAMENTE SATISFEITA COM O SERVI\\xc3\\x87O PRESTADO.'\n",
            " b'N\\xc3\\xa3o tenho o que reclamar mais meu produto veio com uma das embalagens rasgada . Mais aten\\xc3\\xa7\\xc3\\xa3o da pr\\xc3\\xb3xima vez ']\n",
            "\n",
            "labels:  [0 1 1 1 0 1 1 1 1 0 1 0 1 0 0 1 1 1 1 0 1 0 1 0 0 1 1 1 1 1 0 1 1 1 1 1 1\n",
            " 1 0 0 1 0 1 1 1 0 1 1 0 1 0 1 1 1 1 1 1 0 1 1 1 0 1 0]\n"
          ]
        }
      ]
    },
    {
      "cell_type": "markdown",
      "source": [
        "# Create the text encoder\n",
        "The raw text loaded needs to be processed before it can be used in a model.\n",
        "The simplest way to process text for training is using the TextVectorization layer.\n",
        "This layer has many capabilities, but this tutorial sticks to the default behavior.\n",
        "\n",
        "Create the layer, and pass the dataset's text to the layer's .adapt method:"
      ],
      "metadata": {
        "id": "uqy6ODt2af7r"
      }
    },
    {
      "cell_type": "code",
      "execution_count": 109,
      "metadata": {
        "id": "vd4_BGKyurao"
      },
      "outputs": [],
      "source": [
        "VOCAB_SIZE = 1000\n",
        "encoder = tf.keras.layers.TextVectorization(\n",
        "    max_tokens=VOCAB_SIZE,\n",
        "    pad_to_max_tokens=True)\n",
        "encoder.adapt(train_dataset.map(lambda text, label: text))\n"
      ]
    },
    {
      "cell_type": "markdown",
      "source": [
        "# The .adapt method sets the layer's vocabulary. Here are the first 20 tokens. After the padding and unknown tokens they're sorted by frequency:"
      ],
      "metadata": {
        "id": "8ih3F3Hmai0Q"
      }
    },
    {
      "cell_type": "code",
      "source": [
        "vocab = np.array(encoder.get_vocabulary())\n",
        "vocab[:20]"
      ],
      "metadata": {
        "colab": {
          "base_uri": "https://localhost:8080/"
        },
        "id": "muy8LiHWPhp7",
        "outputId": "6a4c57c6-0513-455e-98c7-16f98998042f"
      },
      "execution_count": 111,
      "outputs": [
        {
          "output_type": "execute_result",
          "data": {
            "text/plain": [
              "array(['', '[UNK]', 'o', 'produto', 'e', 'a', 'de', 'do', 'não', 'que',\n",
              "       'prazo', 'muito', 'entrega', 'com', 'antes', 'chegou', 'recebi',\n",
              "       'no', 'foi', 'bom'], dtype='<U16')"
            ]
          },
          "metadata": {},
          "execution_count": 111
        }
      ]
    },
    {
      "cell_type": "markdown",
      "source": [
        "# Once the vocabulary is set, the layer can encode text into indices.\n",
        "The tensors of indices are 0-padded to the longest sequence in the batch (unless you set a fixed output_sequence_length):"
      ],
      "metadata": {
        "id": "ob8CwC8AanFl"
      }
    },
    {
      "cell_type": "code",
      "source": [
        "encoded_example = encoder(example)[:3].numpy()\n",
        "encoded_example"
      ],
      "metadata": {
        "colab": {
          "base_uri": "https://localhost:8080/"
        },
        "id": "gPsjhwYdPsPa",
        "outputId": "e07ff349-98b5-4ba5-91c2-e8aef1ee8266"
      },
      "execution_count": 112,
      "outputs": [
        {
          "output_type": "execute_result",
          "data": {
            "text/plain": [
              "array([[116,   5,  73,   4,  39,   3,  18,   1, 435,  25, 118,   4, 280,\n",
              "          1, 101,   4, 172,  33, 168, 199, 186,   0,   0,   0,   0,   0,\n",
              "          0,   0,   0,   0,   0,   0],\n",
              "       [659, 100,  13,   2,   1, 961,   0,   0,   0,   0,   0,   0,   0,\n",
              "          0,   0,   0,   0,   0,   0,   0,   0,   0,   0,   0,   0,   0,\n",
              "          0,   0,   0,   0,   0,   0],\n",
              "       [  8, 153,   2,   9, 428,  40,  39,   3,  26,  13,  33, 129,   1,\n",
              "          1,  40, 467,  24,   1, 160,   0,   0,   0,   0,   0,   0,   0,\n",
              "          0,   0,   0,   0,   0,   0]])"
            ]
          },
          "metadata": {},
          "execution_count": 112
        }
      ]
    },
    {
      "cell_type": "markdown",
      "source": [
        "# With the default settings, the process is not completely reversible. There are three main reasons for that:\n",
        "\n",
        "The default value for preprocessing.TextVectorization's standardize argument is \"lower_and_strip_punctuation\".\n",
        "The limited vocabulary size and lack of character-based fallback results in some unknown tokens."
      ],
      "metadata": {
        "id": "tpUptN3uapGE"
      }
    },
    {
      "cell_type": "code",
      "source": [
        "for n in range(3):\n",
        "  print(\"Original: \", example[n].numpy())\n",
        "  print(\"Round-trip: \", \" \".join(vocab[encoded_example[n]]))\n",
        "  print()"
      ],
      "metadata": {
        "colab": {
          "base_uri": "https://localhost:8080/"
        },
        "id": "hW4MM1JNPv_D",
        "outputId": "44fcc2f1-ff1e-4cf4-fdac-24a0951992e0"
      },
      "execution_count": 113,
      "outputs": [
        {
          "output_type": "stream",
          "name": "stdout",
          "text": [
            "Original:  b'Fiz a comprar e meu produto foi roubado entrei em contato e ningu\\xc3\\xa9m resolveu nada e aguardo uma resposta ate hoje '\n",
            "Round-trip:  fiz a comprar e meu produto foi [UNK] entrei em contato e ninguém [UNK] nada e aguardo uma resposta ate hoje           \n",
            "\n",
            "Original:  b'EXTREMAMENTE SATISFEITA COM O SERVI\\xc3\\x87O PRESTADO.'\n",
            "Round-trip:  extremamente satisfeita com o [UNK] prestado                          \n",
            "\n",
            "Original:  b'N\\xc3\\xa3o tenho o que reclamar mais meu produto veio com uma das embalagens rasgada . Mais aten\\xc3\\xa7\\xc3\\xa3o da pr\\xc3\\xb3xima vez '\n",
            "Round-trip:  não tenho o que reclamar mais meu produto veio com uma das [UNK] [UNK] mais atenção da [UNK] vez             \n",
            "\n"
          ]
        }
      ]
    },
    {
      "cell_type": "markdown",
      "source": [
        "## Create the model"
      ],
      "metadata": {
        "id": "3ZJLtJB7X9wZ"
      }
    },
    {
      "cell_type": "markdown",
      "source": [
        "![bidirectional.png](data:image/png;base64,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)"
      ],
      "metadata": {
        "id": "_GhUSlkGX_eu"
      }
    },
    {
      "cell_type": "markdown",
      "source": [
        "Above is a diagram of the model.\n",
        "\n",
        "1. This model can be build as a `tf.keras.Sequential`.\n",
        "\n",
        "2. The first layer is the `encoder`, which converts the text to a sequence of token indices.\n",
        "\n",
        "3. After the encoder is an embedding layer. An embedding layer stores one vector per word. When called, it converts the sequences of word indices to sequences of vectors. These vectors are trainable. After training (on enough data), words with similar meanings often have similar vectors.\n",
        "\n",
        "  This index-lookup is much more efficient than the equivalent operation of passing a one-hot encoded vector through a `tf.keras.layers.Dense` layer.\n",
        "\n",
        "4. A recurrent neural network (RNN) processes sequence input by iterating through the elements. RNNs pass the outputs from one timestep to their input on the next timestep.\n",
        "\n",
        "  The `tf.keras.layers.Bidirectional` wrapper can also be used with an RNN layer. This propagates the input forward and backwards through the RNN layer and then concatenates the final output.\n",
        "\n",
        "  * The main advantage of a bidirectional RNN is that the signal from the beginning of the input doesn't need to be processed all the way through every timestep to affect the output.  \n",
        "\n",
        "  * The main disadvantage of a bidirectional RNN is that you can't efficiently stream predictions as words are being added to the end.\n",
        "\n",
        "5. After the RNN has converted the sequence to a single vector the two `layers.Dense` do some final processing, and convert from this vector representation to a single logit as the classification output."
      ],
      "metadata": {
        "id": "8ZSxNSZkYzKc"
      }
    },
    {
      "cell_type": "code",
      "execution_count": 114,
      "metadata": {
        "id": "jqkvdcFv41wC"
      },
      "outputs": [],
      "source": [
        "model = tf.keras.Sequential([\n",
        "    encoder,\n",
        "    tf.keras.layers.Embedding(\n",
        "        input_dim=len(encoder.get_vocabulary()),\n",
        "        output_dim=64,\n",
        "        # Use masking to handle the variable sequence lengths\n",
        "        mask_zero=True),\n",
        "    tf.keras.layers.Bidirectional(tf.keras.layers.LSTM(64)),\n",
        "    tf.keras.layers.Dense(64, activation='relu'),\n",
        "    tf.keras.layers.Dense(1)\n",
        "])"
      ]
    },
    {
      "cell_type": "markdown",
      "source": [
        "Please note that Keras sequential model is used here since all the layers in the model only have single input and produce single output. In case you want to use stateful RNN layer, you might want to build your model with Keras functional API or model subclassing so that you can retrieve and reuse the RNN layer states. Please check [Keras RNN guide](https://www.tensorflow.org/guide/keras/rnn#rnn_state_reuse) for more details."
      ],
      "metadata": {
        "id": "8EePONtpZa7u"
      }
    },
    {
      "cell_type": "markdown",
      "source": [
        "The embedding layer [uses masking](https://www.tensorflow.org/guide/keras/masking_and_padding) to handle the varying sequence-lengths. All the layers after the `Embedding` support masking:"
      ],
      "metadata": {
        "id": "-8Y1QXOoZec9"
      }
    },
    {
      "cell_type": "code",
      "source": [
        "print([layer.supports_masking for layer in model.layers])"
      ],
      "metadata": {
        "colab": {
          "base_uri": "https://localhost:8080/"
        },
        "id": "KZsFAH-i-R-c",
        "outputId": "6969add8-1e9f-42f7-92ef-f092f3da8ff9"
      },
      "execution_count": 115,
      "outputs": [
        {
          "output_type": "stream",
          "name": "stdout",
          "text": [
            "[False, True, True, True, True]\n"
          ]
        }
      ]
    },
    {
      "cell_type": "markdown",
      "source": [
        "To confirm that this works as expected, evaluate a sentence twice. First, alone so there's no padding to mask:"
      ],
      "metadata": {
        "id": "wkFk-y_dZsFR"
      }
    },
    {
      "cell_type": "code",
      "source": [
        "# predict on a sample text without padding.\n",
        "\n",
        "sample_text = ('O filme foi ótimo')\n",
        "predictions = model.predict(tf.constant([sample_text]))\n",
        "print(predictions[0])"
      ],
      "metadata": {
        "colab": {
          "base_uri": "https://localhost:8080/"
        },
        "id": "fznVd2ZEZvbg",
        "outputId": "cc8a3bfc-eb01-4bca-b859-fad1bdfd55c2"
      },
      "execution_count": 116,
      "outputs": [
        {
          "output_type": "stream",
          "name": "stdout",
          "text": [
            "\u001b[1m1/1\u001b[0m \u001b[32m━━━━━━━━━━━━━━━━━━━━\u001b[0m\u001b[37m\u001b[0m \u001b[1m3s\u001b[0m 3s/step\n",
            "[-0.00917388]\n"
          ]
        }
      ]
    },
    {
      "cell_type": "markdown",
      "source": [
        "Now, evaluate it again in a batch with a longer sentence. The result should be identical:"
      ],
      "metadata": {
        "id": "CjuUa03GZ0Sc"
      }
    },
    {
      "cell_type": "code",
      "source": [
        "# predict on a sample text with padding\n",
        "\n",
        "padding = \"the \" * 2000\n",
        "predictions = model.predict(tf.constant([sample_text, padding]))\n",
        "print(predictions[0])"
      ],
      "metadata": {
        "colab": {
          "base_uri": "https://localhost:8080/"
        },
        "id": "imip5sikZ2d4",
        "outputId": "70e5f6ad-f744-4a48-dc58-b1fb45d3f3cc"
      },
      "execution_count": 117,
      "outputs": [
        {
          "output_type": "stream",
          "name": "stdout",
          "text": [
            "\u001b[1m1/1\u001b[0m \u001b[32m━━━━━━━━━━━━━━━━━━━━\u001b[0m\u001b[37m\u001b[0m \u001b[1m1s\u001b[0m 849ms/step\n",
            "[-0.00917388]\n"
          ]
        }
      ]
    },
    {
      "cell_type": "markdown",
      "source": [
        "Compile the Keras model to configure the training process:"
      ],
      "metadata": {
        "id": "r2kFifNhaFZB"
      }
    },
    {
      "cell_type": "code",
      "execution_count": 118,
      "metadata": {
        "id": "uC25Lu1Yvuqy"
      },
      "outputs": [],
      "source": [
        "# Compila o modelo\n",
        "model.compile(loss=tf.keras.losses.BinaryCrossentropy(from_logits=True),\n",
        "              optimizer=tf.keras.optimizers.Adam(1e-4),\n",
        "              metrics=['accuracy'])"
      ]
    },
    {
      "cell_type": "markdown",
      "source": [
        "## Train the model"
      ],
      "metadata": {
        "id": "CP7a2xxWaIPM"
      }
    },
    {
      "cell_type": "code",
      "execution_count": 119,
      "metadata": {
        "id": "tBoyjjWg0Ac9",
        "colab": {
          "base_uri": "https://localhost:8080/"
        },
        "outputId": "232e12f7-741b-47b7-94be-07c46b66e92f",
        "collapsed": true
      },
      "outputs": [
        {
          "output_type": "stream",
          "name": "stdout",
          "text": [
            "Epoch 1/10\n",
            "\u001b[1m512/512\u001b[0m \u001b[32m━━━━━━━━━━━━━━━━━━━━\u001b[0m\u001b[37m\u001b[0m \u001b[1m49s\u001b[0m 83ms/step - accuracy: 0.5180 - loss: 0.5780 - val_accuracy: 0.8609 - val_loss: 0.3420\n",
            "Epoch 2/10\n",
            "\u001b[1m512/512\u001b[0m \u001b[32m━━━━━━━━━━━━━━━━━━━━\u001b[0m\u001b[37m\u001b[0m \u001b[1m41s\u001b[0m 80ms/step - accuracy: 0.8767 - loss: 0.3016 - val_accuracy: 0.8766 - val_loss: 0.3042\n",
            "Epoch 3/10\n",
            "\u001b[1m512/512\u001b[0m \u001b[32m━━━━━━━━━━━━━━━━━━━━\u001b[0m\u001b[37m\u001b[0m \u001b[1m82s\u001b[0m 160ms/step - accuracy: 0.8931 - loss: 0.2713 - val_accuracy: 0.8807 - val_loss: 0.2955\n",
            "Epoch 4/10\n",
            "\u001b[1m512/512\u001b[0m \u001b[32m━━━━━━━━━━━━━━━━━━━━\u001b[0m\u001b[37m\u001b[0m \u001b[1m41s\u001b[0m 80ms/step - accuracy: 0.8991 - loss: 0.2581 - val_accuracy: 0.8823 - val_loss: 0.2907\n",
            "Epoch 5/10\n",
            "\u001b[1m512/512\u001b[0m \u001b[32m━━━━━━━━━━━━━━━━━━━━\u001b[0m\u001b[37m\u001b[0m \u001b[1m82s\u001b[0m 160ms/step - accuracy: 0.9020 - loss: 0.2527 - val_accuracy: 0.8792 - val_loss: 0.2894\n",
            "Epoch 6/10\n",
            "\u001b[1m512/512\u001b[0m \u001b[32m━━━━━━━━━━━━━━━━━━━━\u001b[0m\u001b[37m\u001b[0m \u001b[1m82s\u001b[0m 160ms/step - accuracy: 0.9034 - loss: 0.2492 - val_accuracy: 0.8802 - val_loss: 0.2898\n",
            "Epoch 7/10\n",
            "\u001b[1m512/512\u001b[0m \u001b[32m━━━━━━━━━━━━━━━━━━━━\u001b[0m\u001b[37m\u001b[0m \u001b[1m101s\u001b[0m 80ms/step - accuracy: 0.9061 - loss: 0.2440 - val_accuracy: 0.8823 - val_loss: 0.2897\n",
            "Epoch 8/10\n",
            "\u001b[1m512/512\u001b[0m \u001b[32m━━━━━━━━━━━━━━━━━━━━\u001b[0m\u001b[37m\u001b[0m \u001b[1m41s\u001b[0m 80ms/step - accuracy: 0.9077 - loss: 0.2391 - val_accuracy: 0.8833 - val_loss: 0.2894\n",
            "Epoch 9/10\n",
            "\u001b[1m512/512\u001b[0m \u001b[32m━━━━━━━━━━━━━━━━━━━━\u001b[0m\u001b[37m\u001b[0m \u001b[1m41s\u001b[0m 80ms/step - accuracy: 0.9085 - loss: 0.2382 - val_accuracy: 0.8854 - val_loss: 0.2890\n",
            "Epoch 10/10\n",
            "\u001b[1m512/512\u001b[0m \u001b[32m━━━━━━━━━━━━━━━━━━━━\u001b[0m\u001b[37m\u001b[0m \u001b[1m40s\u001b[0m 78ms/step - accuracy: 0.9090 - loss: 0.2355 - val_accuracy: 0.8828 - val_loss: 0.2933\n"
          ]
        }
      ],
      "source": [
        "# Treina o modelo\n",
        "history = model.fit(train_dataset, epochs=10,\n",
        "                    validation_data=test_dataset,\n",
        "                    validation_steps=30)"
      ]
    },
    {
      "cell_type": "code",
      "execution_count": 120,
      "metadata": {
        "id": "RGc7C9WiwRWs",
        "colab": {
          "base_uri": "https://localhost:8080/"
        },
        "outputId": "6b2abc94-c68d-4438-f936-9b64674f6d71"
      },
      "outputs": [
        {
          "output_type": "stream",
          "name": "stdout",
          "text": [
            "\u001b[1m128/128\u001b[0m \u001b[32m━━━━━━━━━━━━━━━━━━━━\u001b[0m\u001b[37m\u001b[0m \u001b[1m2s\u001b[0m 19ms/step - accuracy: 0.8886 - loss: 0.2840\n"
          ]
        }
      ],
      "source": [
        "# Avalia o modelo\n",
        "test_loss, test_acc = model.evaluate(test_dataset)"
      ]
    },
    {
      "cell_type": "code",
      "execution_count": 121,
      "metadata": {
        "id": "N_tD0QY5wXaK",
        "colab": {
          "base_uri": "https://localhost:8080/"
        },
        "outputId": "5fe5d84d-d5de-4b57-f722-49b3cc1ab8f5"
      },
      "outputs": [
        {
          "output_type": "stream",
          "name": "stdout",
          "text": [
            "\n",
            "Test Loss: 0.2828884422779083\n",
            "Test Accuracy: 0.8899877667427063\n"
          ]
        }
      ],
      "source": [
        "print('\\nTest Loss:', test_loss)\n",
        "print('Test Accuracy:', test_acc)"
      ]
    },
    {
      "cell_type": "markdown",
      "source": [
        "Run a prediction on a new sentence:\n",
        "\n",
        "If the prediction is >= 0.0, it is positive else it is negative."
      ],
      "metadata": {
        "id": "SimvtlsiaUOJ"
      }
    },
    {
      "cell_type": "code",
      "source": [
        "def interpretar_sentimento(pred):\n",
        "    if pred >= 0.0:\n",
        "        return \"Sentimento Positivo\"\n",
        "    else:\n",
        "        return \"Sentimento Negativo\""
      ],
      "metadata": {
        "id": "hBkNvn8DP6z6"
      },
      "execution_count": 130,
      "outputs": []
    },
    {
      "cell_type": "code",
      "source": [
        "sample_text = (\"A captura de contexto ta boa demais da conta\")\n",
        "predictions = model.predict(tf.constant([sample_text]))\n",
        "print(predictions[0])\n",
        "print(interpretar_sentimento(predictions[0]))"
      ],
      "metadata": {
        "colab": {
          "base_uri": "https://localhost:8080/"
        },
        "id": "gqgL1rGMPZJ6",
        "outputId": "d267891c-ec40-449a-df19-abb97cdf3f54"
      },
      "execution_count": 137,
      "outputs": [
        {
          "output_type": "stream",
          "name": "stdout",
          "text": [
            "\u001b[1m1/1\u001b[0m \u001b[32m━━━━━━━━━━━━━━━━━━━━\u001b[0m\u001b[37m\u001b[0m \u001b[1m0s\u001b[0m 71ms/step\n",
            "[-1.290732]\n",
            "Sentimento Negativo\n"
          ]
        }
      ]
    },
    {
      "cell_type": "markdown",
      "metadata": {
        "id": "7g1evcaRpTKm"
      },
      "source": [
        "## Stack two or more LSTM layers\n",
        "\n",
        "Keras recurrent layers have two available modes that are controlled by the `return_sequences` constructor argument:\n",
        "\n",
        "* If `False` it returns only the last output for each input sequence (a 2D tensor of shape (batch_size, output_features)). This is the default, used in the previous model.\n",
        "\n",
        "* If `True` the full sequences of successive outputs for each timestep is returned (a 3D tensor of shape `(batch_size, timesteps, output_features)`).\n",
        "\n",
        "Here is what the flow of information looks like with `return_sequences=True`:"
      ]
    },
    {
      "cell_type": "markdown",
      "source": [
        "![layered_bidirectional.png](data:image/png;base64,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)"
      ],
      "metadata": {
        "id": "W804KfHAZ9W3"
      }
    },
    {
      "cell_type": "markdown",
      "metadata": {
        "id": "wbSClCrG1z8l"
      },
      "source": [
        "The interesting thing about using an `RNN` with `return_sequences=True` is that the output still has 3-axes, like the input, so it can be passed to another RNN layer, like this:"
      ]
    },
    {
      "cell_type": "code",
      "execution_count": 138,
      "metadata": {
        "id": "jo1jjO3vn0jo"
      },
      "outputs": [],
      "source": [
        "model = tf.keras.Sequential([\n",
        "    encoder,\n",
        "    tf.keras.layers.Embedding(len(encoder.get_vocabulary()), 64, mask_zero=True),\n",
        "    tf.keras.layers.Bidirectional(tf.keras.layers.LSTM(64,  return_sequences=True)),\n",
        "    tf.keras.layers.Bidirectional(tf.keras.layers.LSTM(32)),\n",
        "    tf.keras.layers.Dense(64, activation='relu'),\n",
        "    tf.keras.layers.Dropout(0.5),\n",
        "    tf.keras.layers.Dense(1)\n",
        "])"
      ]
    },
    {
      "cell_type": "code",
      "execution_count": 139,
      "metadata": {
        "id": "hEPV5jVGp-is"
      },
      "outputs": [],
      "source": [
        "model.compile(loss=tf.keras.losses.BinaryCrossentropy(from_logits=True),\n",
        "              optimizer=tf.keras.optimizers.Adam(1e-4),\n",
        "              metrics=['accuracy'])"
      ]
    },
    {
      "cell_type": "code",
      "execution_count": 140,
      "metadata": {
        "id": "LeSE-YjdqAeN",
        "colab": {
          "base_uri": "https://localhost:8080/"
        },
        "outputId": "51652258-0f4f-43f4-9756-6c31776b554e"
      },
      "outputs": [
        {
          "output_type": "stream",
          "name": "stdout",
          "text": [
            "Epoch 1/10\n",
            "\u001b[1m512/512\u001b[0m \u001b[32m━━━━━━━━━━━━━━━━━━━━\u001b[0m\u001b[37m\u001b[0m \u001b[1m90s\u001b[0m 143ms/step - accuracy: 0.5190 - loss: 0.5801 - val_accuracy: 0.8604 - val_loss: 0.3481\n",
            "Epoch 2/10\n",
            "\u001b[1m512/512\u001b[0m \u001b[32m━━━━━━━━━━━━━━━━━━━━\u001b[0m\u001b[37m\u001b[0m \u001b[1m74s\u001b[0m 144ms/step - accuracy: 0.8802 - loss: 0.3135 - val_accuracy: 0.8792 - val_loss: 0.3102\n",
            "Epoch 3/10\n",
            "\u001b[1m512/512\u001b[0m \u001b[32m━━━━━━━━━━━━━━━━━━━━\u001b[0m\u001b[37m\u001b[0m \u001b[1m82s\u001b[0m 160ms/step - accuracy: 0.8934 - loss: 0.2794 - val_accuracy: 0.8807 - val_loss: 0.2994\n",
            "Epoch 4/10\n",
            "\u001b[1m512/512\u001b[0m \u001b[32m━━━━━━━━━━━━━━━━━━━━\u001b[0m\u001b[37m\u001b[0m \u001b[1m72s\u001b[0m 141ms/step - accuracy: 0.8953 - loss: 0.2717 - val_accuracy: 0.8854 - val_loss: 0.2951\n",
            "Epoch 5/10\n",
            "\u001b[1m512/512\u001b[0m \u001b[32m━━━━━━━━━━━━━━━━━━━━\u001b[0m\u001b[37m\u001b[0m \u001b[1m73s\u001b[0m 142ms/step - accuracy: 0.9013 - loss: 0.2583 - val_accuracy: 0.8828 - val_loss: 0.2933\n",
            "Epoch 6/10\n",
            "\u001b[1m512/512\u001b[0m \u001b[32m━━━━━━━━━━━━━━━━━━━━\u001b[0m\u001b[37m\u001b[0m \u001b[1m142s\u001b[0m 260ms/step - accuracy: 0.9026 - loss: 0.2581 - val_accuracy: 0.8854 - val_loss: 0.2913\n",
            "Epoch 7/10\n",
            "\u001b[1m512/512\u001b[0m \u001b[32m━━━━━━━━━━━━━━━━━━━━\u001b[0m\u001b[37m\u001b[0m \u001b[1m82s\u001b[0m 142ms/step - accuracy: 0.9060 - loss: 0.2497 - val_accuracy: 0.8833 - val_loss: 0.2906\n",
            "Epoch 8/10\n",
            "\u001b[1m512/512\u001b[0m \u001b[32m━━━━━━━━━━━━━━━━━━━━\u001b[0m\u001b[37m\u001b[0m \u001b[1m82s\u001b[0m 160ms/step - accuracy: 0.9079 - loss: 0.2478 - val_accuracy: 0.8813 - val_loss: 0.2893\n",
            "Epoch 9/10\n",
            "\u001b[1m512/512\u001b[0m \u001b[32m━━━━━━━━━━━━━━━━━━━━\u001b[0m\u001b[37m\u001b[0m \u001b[1m82s\u001b[0m 160ms/step - accuracy: 0.9076 - loss: 0.2454 - val_accuracy: 0.8813 - val_loss: 0.2929\n",
            "Epoch 10/10\n",
            "\u001b[1m512/512\u001b[0m \u001b[32m━━━━━━━━━━━━━━━━━━━━\u001b[0m\u001b[37m\u001b[0m \u001b[1m82s\u001b[0m 160ms/step - accuracy: 0.9069 - loss: 0.2435 - val_accuracy: 0.8828 - val_loss: 0.2925\n"
          ]
        }
      ],
      "source": [
        "history = model.fit(train_dataset, epochs=10,\n",
        "                    validation_data=test_dataset,\n",
        "                    validation_steps=30)"
      ]
    },
    {
      "cell_type": "code",
      "execution_count": 141,
      "metadata": {
        "id": "_LdwilM1qPM3",
        "colab": {
          "base_uri": "https://localhost:8080/"
        },
        "outputId": "a7ab96a5-1c4c-4fb5-a1e8-92c66760492d"
      },
      "outputs": [
        {
          "output_type": "stream",
          "name": "stdout",
          "text": [
            "\u001b[1m128/128\u001b[0m \u001b[32m━━━━━━━━━━━━━━━━━━━━\u001b[0m\u001b[37m\u001b[0m \u001b[1m6s\u001b[0m 49ms/step - accuracy: 0.8873 - loss: 0.2850\n",
            "Test Loss: 0.28386762738227844\n",
            "Test Accuracy: 0.8893772959709167\n"
          ]
        }
      ],
      "source": [
        "test_loss, test_acc = model.evaluate(test_dataset)\n",
        "\n",
        "print('Test Loss:', test_loss)\n",
        "print('Test Accuracy:', test_acc)"
      ]
    },
    {
      "cell_type": "code",
      "execution_count": 142,
      "metadata": {
        "colab": {
          "base_uri": "https://localhost:8080/"
        },
        "outputId": "23c11aa6-980d-47bf-f415-2b38b5c02d30",
        "id": "OAP4qHUPfSBB"
      },
      "outputs": [
        {
          "output_type": "stream",
          "name": "stdout",
          "text": [
            "\u001b[1m1/1\u001b[0m \u001b[32m━━━━━━━━━━━━━━━━━━━━\u001b[0m\u001b[37m\u001b[0m \u001b[1m1s\u001b[0m 975ms/step\n",
            "Sentimento Negativo\n"
          ]
        }
      ],
      "source": [
        "# predict on a sample text without padding.\n",
        "\n",
        "sample_text = ('Particularmente eu não gosto do ensino remoto. Tenho muita dificuldade pra ter foco e algumas aulas chegam a ter aproximadamente, e às vezes ultrapassam, duas horas. É muito tempo para ficar sentado em frente ao computador tendo que absorver o conteúdo. Porém o fato de ter as aulas gravadas e pode assistir posteriormente pra caso tenha perdido a aula ou mesmo para reforçar/revisar o conteúdo é um ponto positivo. As monitorias também ficaram mais &amp;quot;acessíveis&amp;quot; no formato remoto.')\n",
        "predictions = model.predict(tf.constant([sample_text]))\n",
        "print(interpretar_sentimento(predictions[0]))"
      ]
    },
    {
      "cell_type": "code",
      "execution_count": 143,
      "metadata": {
        "id": "_YYub0EDtwCu",
        "colab": {
          "base_uri": "https://localhost:8080/",
          "height": 355
        },
        "outputId": "33cd9aa4-d91e-4f6e-dea1-18852c03a037"
      },
      "outputs": [
        {
          "output_type": "display_data",
          "data": {
            "text/plain": [
              "<Figure size 1600x600 with 2 Axes>"
            ],
            "image/png": "[encoded data removed]"
          },
          "metadata": {}
        }
      ],
      "source": [
        "plt.figure(figsize=(16, 6))\n",
        "plt.subplot(1, 2, 1)\n",
        "plot_graphs(history, 'accuracy')\n",
        "plt.subplot(1, 2, 2)\n",
        "plot_graphs(history, 'loss')"
      ]
    },
    {
      "cell_type": "code",
      "source": [
        "model.save('modelo_rnn_arthur.keras')"
      ],
      "metadata": {
        "id": "Xtti0jlDc_Sf"
      },
      "execution_count": 144,
      "outputs": []
    }
  ],
  "metadata": {
    "colab": {
      "provenance": []
    },
    "kernelspec": {
      "display_name": "Python 3",
      "name": "python3"
    }
  },
  "nbformat": 4,
  "nbformat_minor": 0
}